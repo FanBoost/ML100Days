{
 "cells": [
  {
   "cell_type": "markdown",
   "metadata": {},
   "source": [
    "## [作業目標]\n",
    "了解機器學習適合應用的領域與範疇。"
   ]
  },
  {
   "cell_type": "markdown",
   "metadata": {},
   "source": [
    "## [作業重點]\n",
    "透過瞭解機器學習的運作方式，找出非常適用機器學習應用的領域及其原因"
   ]
  },
  {
   "cell_type": "markdown",
   "metadata": {},
   "source": [
    "## 作業\n",
    "請找出一個你認為機器學習可以發光發熱的領域並闡述原因? "
   ]
  },
  {
   "cell_type": "code",
   "execution_count": 2,
   "metadata": {},
   "outputs": [
    {
     "data": {
      "text/plain": [
       "'機器視覺，由於目前生活中充斥著越來越多的攝影鏡頭，如手機、筆記型電腦以及行車記錄器等...，讓我們採集影像資料的便利性大幅提升。\\n這如同給了機器視覺模型很龐大的資料庫，再加上運算能力的日益提升，讓以後機器在學習處理影像資料的速度一定能更具效率，所以我認為機器視覺的多元發展一定指日可待 。'"
      ]
     },
     "execution_count": 2,
     "metadata": {},
     "output_type": "execute_result"
    }
   ],
   "source": [
    "'''機器視覺，由於目前生活中充斥著越來越多的攝影鏡頭，如手機、筆記型電腦以及行車記錄器等...，讓我們採集影像資料的便利性大幅提升。\n",
    "這如同給了機器視覺模型很龐大的資料庫，再加上運算能力的日益提升，讓以後機器在學習處理影像資料的速度一定能更具效率，所以我認為機器視覺的多元發展一定指日可待 。'''"
   ]
  },
  {
   "cell_type": "code",
   "execution_count": null,
   "metadata": {},
   "outputs": [],
   "source": []
  }
 ],
 "metadata": {
  "kernelspec": {
   "display_name": "Python 3",
   "language": "python",
   "name": "python3"
  },
  "language_info": {
   "codemirror_mode": {
    "name": "ipython",
    "version": 3
   },
   "file_extension": ".py",
   "mimetype": "text/x-python",
   "name": "python",
   "nbconvert_exporter": "python",
   "pygments_lexer": "ipython3",
   "version": "3.6.5"
  }
 },
 "nbformat": 4,
 "nbformat_minor": 2
}
